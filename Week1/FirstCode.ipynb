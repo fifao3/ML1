{
 "cells": [
  {
   "cell_type": "markdown",
   "metadata": {},
   "source": [
    "## Very first code"
   ]
  },
  {
   "cell_type": "code",
   "execution_count": 1,
   "metadata": {},
   "outputs": [
    {
     "name": "stdout",
     "output_type": "stream",
     "text": [
      "Hello world!\n"
     ]
    }
   ],
   "source": [
    "print(\"Hello world!\")"
   ]
  },
  {
   "cell_type": "code",
   "execution_count": 2,
   "metadata": {},
   "outputs": [],
   "source": [
    "import numpy as np"
   ]
  },
  {
   "cell_type": "markdown",
   "metadata": {},
   "source": [
    "### create a single-dimension Array 1x3"
   ]
  },
  {
   "cell_type": "code",
   "execution_count": 3,
   "metadata": {},
   "outputs": [
    {
     "name": "stdout",
     "output_type": "stream",
     "text": [
      "[1 2 3]\n"
     ]
    }
   ],
   "source": [
    "a1x3 = np.array([1,2,3])\n",
    "print(a1x3)"
   ]
  },
  {
   "cell_type": "markdown",
   "metadata": {},
   "source": [
    "### create a multi-dimension Array 2x3"
   ]
  },
  {
   "cell_type": "code",
   "execution_count": 4,
   "metadata": {},
   "outputs": [
    {
     "name": "stdout",
     "output_type": "stream",
     "text": [
      "[[1 2 3]\n",
      " [4 5 6]]\n"
     ]
    }
   ],
   "source": [
    "a2x3 = np.array([(1,2,3),(4,5,6)])\n",
    "print(a2x3)"
   ]
  },
  {
   "cell_type": "code",
   "execution_count": 5,
   "metadata": {
    "scrolled": true
   },
   "outputs": [
    {
     "name": "stdout",
     "output_type": "stream",
     "text": [
      "[[1 2 3]\n",
      " [4 5 6]\n",
      " [7 8 9]]\n"
     ]
    }
   ],
   "source": [
    "a3x3 = np.array([(1,2,3),(4,5,6),(7,8,9)])\n",
    "print(a3x3)"
   ]
  },
  {
   "cell_type": "code",
   "execution_count": 6,
   "metadata": {},
   "outputs": [
    {
     "name": "stdout",
     "output_type": "stream",
     "text": [
      "[[1 2]\n",
      " [3 4]\n",
      " [5 6]]\n"
     ]
    }
   ],
   "source": [
    "a3x2 = np.array([(1,2),(3,4),(5,6)])\n",
    "print(a3x2)"
   ]
  },
  {
   "cell_type": "markdown",
   "metadata": {},
   "source": [
    "### Số chiều của mảng ndim"
   ]
  },
  {
   "cell_type": "code",
   "execution_count": 7,
   "metadata": {},
   "outputs": [
    {
     "name": "stdout",
     "output_type": "stream",
     "text": [
      "1\n",
      "2\n",
      "2\n",
      "2\n"
     ]
    }
   ],
   "source": [
    "print(a1x3.ndim)\n",
    "print(a2x3.ndim)\n",
    "print(a3x3.ndim)\n",
    "print(a3x2.ndim)"
   ]
  },
  {
   "cell_type": "markdown",
   "metadata": {},
   "source": [
    "### Kích thước mảng size"
   ]
  },
  {
   "cell_type": "code",
   "execution_count": 8,
   "metadata": {
    "scrolled": true
   },
   "outputs": [
    {
     "name": "stdout",
     "output_type": "stream",
     "text": [
      "3\n",
      "6\n",
      "9\n"
     ]
    }
   ],
   "source": [
    "print(a1x3.size)\n",
    "print(a2x3.size)\n",
    "print(a3x3.size)"
   ]
  },
  {
   "cell_type": "markdown",
   "metadata": {},
   "source": [
    "### Thay đổi hình dạng array reshape"
   ]
  },
  {
   "cell_type": "code",
   "execution_count": 9,
   "metadata": {},
   "outputs": [
    {
     "name": "stdout",
     "output_type": "stream",
     "text": [
      "[[1 2 3]\n",
      " [4 5 6]]\n",
      "[[1 2]\n",
      " [3 4]\n",
      " [5 6]]\n",
      "[[1 2 3 4 5 6]]\n"
     ]
    }
   ],
   "source": [
    "print(a2x3)\n",
    "print(a2x3.reshape(3,2))\n",
    "print(a2x3.reshape(1,6))"
   ]
  },
  {
   "cell_type": "code",
   "execution_count": 10,
   "metadata": {},
   "outputs": [
    {
     "name": "stdout",
     "output_type": "stream",
     "text": [
      "[[3 4 5 6]\n",
      " [5 6 7 8]\n",
      " [3 4 7 8]]\n"
     ]
    }
   ],
   "source": [
    "a3x4 = np.array([(3,4,5,6),(5,6,7,8),(3,4,7,8)])\n",
    "print(a3x4)"
   ]
  },
  {
   "cell_type": "markdown",
   "metadata": {},
   "source": [
    "### Min/Max của array"
   ]
  },
  {
   "cell_type": "code",
   "execution_count": 11,
   "metadata": {},
   "outputs": [
    {
     "name": "stdout",
     "output_type": "stream",
     "text": [
      "3\n",
      "8\n",
      "1\n",
      "6\n"
     ]
    }
   ],
   "source": [
    "print(a3x4.min())\n",
    "print(a3x4.max())\n",
    "print(a2x3.min())\n",
    "print(a2x3.max())"
   ]
  },
  {
   "cell_type": "markdown",
   "metadata": {},
   "source": [
    "### Tổng các phần tử trong array"
   ]
  },
  {
   "cell_type": "code",
   "execution_count": 12,
   "metadata": {},
   "outputs": [
    {
     "name": "stdout",
     "output_type": "stream",
     "text": [
      "[[1 2 3]\n",
      " [4 5 6]]\n",
      "21\n",
      "[[3 4 5 6]\n",
      " [5 6 7 8]\n",
      " [3 4 7 8]]\n",
      "66\n"
     ]
    }
   ],
   "source": [
    "print(a2x3)\n",
    "print(a2x3.sum())\n",
    "print(a3x4)\n",
    "print(a3x4.sum())"
   ]
  },
  {
   "cell_type": "markdown",
   "metadata": {},
   "source": [
    "### Tính tổng theo hàng và cột\n",
    "#### Cột - axis = 0 / Hàng - axis = 1"
   ]
  },
  {
   "cell_type": "code",
   "execution_count": 13,
   "metadata": {},
   "outputs": [
    {
     "name": "stdout",
     "output_type": "stream",
     "text": [
      "[[1 2 3]\n",
      " [4 5 6]]\n",
      "[5 7 9]\n",
      "[[3 4 5 6]\n",
      " [5 6 7 8]\n",
      " [3 4 7 8]]\n",
      "[18 26 22]\n"
     ]
    }
   ],
   "source": [
    "print(a2x3)\n",
    "print(a2x3.sum(axis=0))\n",
    "print(a3x4)\n",
    "print(a3x4.sum(axis=1))"
   ]
  },
  {
   "cell_type": "markdown",
   "metadata": {},
   "source": [
    "### Căn bậc 2 của array - sqrt (square root)"
   ]
  },
  {
   "cell_type": "code",
   "execution_count": 14,
   "metadata": {},
   "outputs": [
    {
     "name": "stdout",
     "output_type": "stream",
     "text": [
      "[[1 2 3]\n",
      " [4 5 6]]\n",
      "[[1.         1.41421356 1.73205081]\n",
      " [2.         2.23606798 2.44948974]]\n"
     ]
    }
   ],
   "source": [
    "print(a2x3)\n",
    "print(np.sqrt(a2x3))"
   ]
  },
  {
   "cell_type": "markdown",
   "metadata": {},
   "source": [
    "### Độ lệch chuẩn std (standard deviation)"
   ]
  },
  {
   "cell_type": "code",
   "execution_count": 15,
   "metadata": {},
   "outputs": [
    {
     "name": "stdout",
     "output_type": "stream",
     "text": [
      "[[1 2 3]\n",
      " [4 5 6]]\n",
      "1.707825127659933\n"
     ]
    }
   ],
   "source": [
    "print(a2x3)\n",
    "print(np.std(a2x3))"
   ]
  },
  {
   "cell_type": "code",
   "execution_count": 16,
   "metadata": {},
   "outputs": [
    {
     "name": "stdout",
     "output_type": "stream",
     "text": [
      "--- Các phép toán ma trận ---\n",
      "[[1 1 1]\n",
      " [2 2 2]]\n",
      "[[2 2 2]\n",
      " [3 3 3]]\n",
      "--- Phép cộng ma trận ---\n",
      "[[3 3 3]\n",
      " [5 5 5]]\n",
      "--- Phép trừ ma trận ---\n",
      "[[1 1 1]\n",
      " [1 1 1]]\n",
      "--- Phép nhân ma trận ---\n",
      "[[1 1 1]\n",
      " [2 2 2]]\n",
      "[[1 1]\n",
      " [2 2]\n",
      " [3 3]]\n",
      "[[ 6  6]\n",
      " [12 12]]\n"
     ]
    }
   ],
   "source": [
    "a1 = np.array([(1,1,1),(2,2,2)])\n",
    "a2 = np.array([(2,2,2),(3,3,3)])\n",
    "a3 = np.array([(1,1),(2,2),(3,3)])\n",
    "a4 = np.array([(1,1,1),(2,2,2),(3,3,3)])\n",
    "print(\"--- Các phép toán ma trận ---\")\n",
    "print(a1)\n",
    "print(a2)\n",
    "print(\"--- Phép cộng ma trận ---\")\n",
    "print(a1 + a2)\n",
    "print(\"--- Phép trừ ma trận ---\")\n",
    "print(a2 - a1)\n",
    "print(\"--- Phép nhân ma trận ---\")\n",
    "print(a1)\n",
    "print(a3)\n",
    "print(a1 @ a3)"
   ]
  },
  {
   "cell_type": "markdown",
   "metadata": {},
   "source": [
    "### Invert matrix - Ma trận nghịch đảo"
   ]
  },
  {
   "cell_type": "code",
   "execution_count": 17,
   "metadata": {},
   "outputs": [
    {
     "name": "stdout",
     "output_type": "stream",
     "text": [
      "[[1 2 3]\n",
      " [4 5 6]]\n",
      "--- Ma trận nghịch đảo ---\n",
      "[[-0.94444444  0.44444444]\n",
      " [-0.11111111  0.11111111]\n",
      " [ 0.72222222 -0.22222222]]\n",
      "--- Kết quả nhân với ma trận nghịch đảo ---\n",
      "[[ 1.00000000e+00  3.05311332e-16]\n",
      " [-4.44089210e-16  1.00000000e+00]]\n"
     ]
    }
   ],
   "source": [
    "print(a2x3)\n",
    "a2x3_i = np.linalg.pinv(a2x3)\n",
    "print(\"--- Ma trận nghịch đảo ---\")\n",
    "print(a2x3_i)\n",
    "print(\"--- Kết quả nhân với ma trận nghịch đảo ---\")\n",
    "print(a2x3 @ a2x3_i)"
   ]
  },
  {
   "cell_type": "markdown",
   "metadata": {},
   "source": [
    "### Transpose matrix - Chuyển vị ma trận"
   ]
  },
  {
   "cell_type": "code",
   "execution_count": 18,
   "metadata": {},
   "outputs": [
    {
     "name": "stdout",
     "output_type": "stream",
     "text": [
      "[[1 2 3]\n",
      " [4 5 6]]\n",
      "--- Chuyển vị ma trận ---\n",
      "[[1 4]\n",
      " [2 5]\n",
      " [3 6]]\n"
     ]
    }
   ],
   "source": [
    "print(a2x3)\n",
    "print(\"--- Chuyển vị ma trận ---\")\n",
    "print(np.transpose(a2x3))"
   ]
  },
  {
   "cell_type": "code",
   "execution_count": 24,
   "metadata": {},
   "outputs": [
    {
     "data": {
      "text/plain": [
       "3.3000000000000003"
      ]
     },
     "execution_count": 24,
     "metadata": {},
     "output_type": "execute_result"
    }
   ],
   "source": [
    "1.10 + 2.20"
   ]
  },
  {
   "cell_type": "code",
   "execution_count": 35,
   "metadata": {},
   "outputs": [
    {
     "data": {
      "text/plain": [
       "Decimal('3.30')"
      ]
     },
     "execution_count": 35,
     "metadata": {},
     "output_type": "execute_result"
    }
   ],
   "source": [
    "from decimal import Decimal as D\n",
    "D('1.10') + D('2.20')"
   ]
  },
  {
   "cell_type": "markdown",
   "metadata": {},
   "source": [
    "#### Thêm .0 vào 4 vì phép toán với float thực hiện nhanh hơn Decimal"
   ]
  },
  {
   "cell_type": "code",
   "execution_count": 41,
   "metadata": {},
   "outputs": [
    {
     "data": {
      "text/plain": [
       "Decimal('10.00')"
      ]
     },
     "execution_count": 41,
     "metadata": {},
     "output_type": "execute_result"
    }
   ],
   "source": [
    "D('4.0')*D('2.5')"
   ]
  },
  {
   "cell_type": "markdown",
   "metadata": {},
   "source": [
    "### Phân số"
   ]
  },
  {
   "cell_type": "code",
   "execution_count": 68,
   "metadata": {},
   "outputs": [],
   "source": [
    "import fractions as F"
   ]
  },
  {
   "cell_type": "code",
   "execution_count": 47,
   "metadata": {},
   "outputs": [
    {
     "name": "stdout",
     "output_type": "stream",
     "text": [
      "6/5\n"
     ]
    }
   ],
   "source": [
    "print(fractions.Fraction('1.2'))"
   ]
  },
  {
   "cell_type": "code",
   "execution_count": 50,
   "metadata": {},
   "outputs": [
    {
     "name": "stdout",
     "output_type": "stream",
     "text": [
      "1/2\n"
     ]
    }
   ],
   "source": [
    "print(fractions.Fraction(1,2))"
   ]
  },
  {
   "cell_type": "code",
   "execution_count": 69,
   "metadata": {
    "scrolled": true
   },
   "outputs": [
    {
     "name": "stdout",
     "output_type": "stream",
     "text": [
      "2/5 3/5 1\n"
     ]
    }
   ],
   "source": [
    "f1 = F.Fraction(2,5)\n",
    "f2 = F.Fraction(3,5)\n",
    "\n",
    "print(f1, f2, f1 + f2)"
   ]
  },
  {
   "cell_type": "markdown",
   "metadata": {},
   "source": [
    "### List"
   ]
  },
  {
   "cell_type": "code",
   "execution_count": 71,
   "metadata": {},
   "outputs": [
    {
     "name": "stdout",
     "output_type": "stream",
     "text": [
      "[1, 2, 3, 4, 5]\n"
     ]
    }
   ],
   "source": [
    "list1 = [1,2,3,4,5]\n",
    "print (list1)"
   ]
  },
  {
   "cell_type": "code",
   "execution_count": 73,
   "metadata": {},
   "outputs": [
    {
     "name": "stdout",
     "output_type": "stream",
     "text": [
      "[[1, 2, 3], 4, [5, 6, 7, 8]]\n"
     ]
    }
   ],
   "source": [
    "list2 = [[1,2,3], 4, [5,6,7,8]]\n",
    "print (list2)"
   ]
  },
  {
   "cell_type": "code",
   "execution_count": 75,
   "metadata": {},
   "outputs": [
    {
     "name": "stdout",
     "output_type": "stream",
     "text": [
      "4\n"
     ]
    }
   ],
   "source": [
    "print (list2[1])"
   ]
  },
  {
   "cell_type": "code",
   "execution_count": 77,
   "metadata": {
    "scrolled": true
   },
   "outputs": [
    {
     "name": "stdout",
     "output_type": "stream",
     "text": [
      "2\n"
     ]
    }
   ],
   "source": [
    "print(list2[0][1])"
   ]
  },
  {
   "cell_type": "markdown",
   "metadata": {},
   "source": [
    "#### 0 [1] 1 [2] 2 [3] 3 [4] 4 [5]\n",
    "##### trong dấu ngoặc là phần tử trong list\n",
    "##### 0:2 sẽ lấy ra các phần tử từ vị trí 0 -> 2 => sẽ là 1, 2\n",
    "##### 1:4 sẽ lấy ra các phần tử nằm giữa 1 và 4 => 2, 3, 4"
   ]
  },
  {
   "cell_type": "code",
   "execution_count": 80,
   "metadata": {},
   "outputs": [
    {
     "name": "stdout",
     "output_type": "stream",
     "text": [
      "[2, 3, 4]\n"
     ]
    }
   ],
   "source": [
    "print (list1[1:4])"
   ]
  },
  {
   "cell_type": "code",
   "execution_count": 82,
   "metadata": {},
   "outputs": [
    {
     "name": "stdout",
     "output_type": "stream",
     "text": [
      "[1, 2]\n"
     ]
    }
   ],
   "source": [
    "print (list1[0:2])"
   ]
  },
  {
   "cell_type": "code",
   "execution_count": 89,
   "metadata": {},
   "outputs": [
    {
     "name": "stdout",
     "output_type": "stream",
     "text": [
      "[[1, 2, 3], 4, [5, 6, 7, 8], 7, [7, 9], 7, 8, 8, 8]\n"
     ]
    }
   ],
   "source": [
    "list2.append(8)\n",
    "print(list2)"
   ]
  },
  {
   "cell_type": "code",
   "execution_count": 95,
   "metadata": {},
   "outputs": [
    {
     "name": "stdout",
     "output_type": "stream",
     "text": [
      "[[1, 2, 3], 4, [5, 6, 7, 8], 9, [10, 11], 7, 8, 8, 8]\n"
     ]
    }
   ],
   "source": [
    "list2[3] = 9\n",
    "list2[4] = [10,11]\n",
    "print(list2)"
   ]
  },
  {
   "cell_type": "code",
   "execution_count": 100,
   "metadata": {},
   "outputs": [
    {
     "name": "stdout",
     "output_type": "stream",
     "text": [
      "[[1, 2, 3], 4, [5, 6, 7, 8], 9, [10, 11]]\n"
     ]
    }
   ],
   "source": [
    "del list2[5:]\n",
    "print(list2)"
   ]
  },
  {
   "cell_type": "code",
   "execution_count": 106,
   "metadata": {},
   "outputs": [
    {
     "name": "stdout",
     "output_type": "stream",
     "text": [
      "[5, 4, 3, 2, 1]\n"
     ]
    }
   ],
   "source": [
    "list1.reverse()\n",
    "print(list1)"
   ]
  },
  {
   "cell_type": "code",
   "execution_count": 111,
   "metadata": {},
   "outputs": [
    {
     "name": "stdout",
     "output_type": "stream",
     "text": [
      "1 5 5 15\n"
     ]
    }
   ],
   "source": [
    "print(min(list1), max(list1), len(list1), sum(list1))"
   ]
  },
  {
   "cell_type": "markdown",
   "metadata": {},
   "source": [
    "### Dictionary"
   ]
  },
  {
   "cell_type": "code",
   "execution_count": 116,
   "metadata": {},
   "outputs": [
    {
     "name": "stdout",
     "output_type": "stream",
     "text": [
      "{1: 'Networking', 2: 'Hacking', 3: 'ASP.NET', 4: 'Machine Learning', 5: 'English'}\n"
     ]
    }
   ],
   "source": [
    "dic1 = {1: \"Networking\", 2: \"Hacking\", 3: \"ASP.NET\", 4:\"Machine Learning\", 5:\"English\"}\n",
    "print(dic1)"
   ]
  },
  {
   "cell_type": "code",
   "execution_count": 117,
   "metadata": {},
   "outputs": [
    {
     "name": "stdout",
     "output_type": "stream",
     "text": [
      "ASP.NET Machine Learning English\n"
     ]
    }
   ],
   "source": [
    "print(dic1[3], dic1[4], dic1[5])"
   ]
  }
 ],
 "metadata": {
  "kernelspec": {
   "display_name": "Python 3",
   "language": "python",
   "name": "python3"
  },
  "language_info": {
   "codemirror_mode": {
    "name": "ipython",
    "version": 3
   },
   "file_extension": ".py",
   "mimetype": "text/x-python",
   "name": "python",
   "nbconvert_exporter": "python",
   "pygments_lexer": "ipython3",
   "version": "3.7.8"
  }
 },
 "nbformat": 4,
 "nbformat_minor": 4
}
